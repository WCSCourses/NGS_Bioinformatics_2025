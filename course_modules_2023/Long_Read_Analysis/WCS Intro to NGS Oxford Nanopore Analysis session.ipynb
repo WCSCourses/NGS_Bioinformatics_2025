{
 "cells": [
  {
   "cell_type": "markdown",
   "id": "c9aff88d",
   "metadata": {},
   "source": [
    "## MinION bioinformatics practical: download software & assemble a bacterial genome "
   ]
  },
  {
   "cell_type": "markdown",
   "id": "638d6608",
   "metadata": {},
   "source": [
    "In this course, we will use miniasm, which is a very quick assembler – but the assemblies will be less accurate as we do not include an error correction step. It’s a good way to check you’re heading in the right direction in your research, but you should consider switching to more accurate assemblers as your project progresses. When & which assembler will depend on your specific research question. \n",
    "\n",
    "We will also install some software from the version control website Github. This software is open access and free to use. Github can be a great resource for finding and installing bioinformatics software, but as always, do take care that what you are installing is genuine, safe to use, and suitable for your operating system and computer specifications \n",
    "\n",
    "Getting started: \n",
    "\n",
    "Open a terminal and check you are in the home directory \n"
   ]
  },
  {
   "cell_type": "code",
   "execution_count": null,
   "id": "4aadb6b4",
   "metadata": {},
   "outputs": [],
   "source": [
    "pwd"
   ]
  },
  {
   "cell_type": "markdown",
   "id": "0abd104a",
   "metadata": {},
   "source": [
    "Make a new directory called longread (all one word) and cd into it. (You can do this in two steps or you can chain them together using &&"
   ]
  },
  {
   "cell_type": "code",
   "execution_count": null,
   "id": "fb026134",
   "metadata": {},
   "outputs": [],
   "source": [
    "mkdir longread && cd longread "
   ]
  },
  {
   "cell_type": "markdown",
   "id": "3390b85d",
   "metadata": {},
   "source": [
    "###### Installing software\n",
    "\n",
    "You will need to install a dependency package. Type in the following:\n",
    "\n",
    "sudo apt-get install libz-dev\n",
    "\n",
    "If prompted for a password, use “manager”\n",
    "\n",
    "Open a new tab in a browser window and search for (Google) miniasm\n",
    "\n",
    "Click on top hit – github.com/lh3/miniasm\n",
    "\n",
    "Find the text below on the webpage, copy it and paste it into your terminal window (You may need to use ctrl+ins and shift+ins instead of ctrl+c and ctrl+v)\n",
    "\n",
    "git clone https://github.com/lh3/miniasm  && (cd miniasm  && make)  \n",
    "\n",
    "minimap2 should already be installed as part of an earlier session on the course - if it is not, do the same for\n",
    "\n",
    "git clone https://github.com/lh3/minimap2 && (cd minimap2 && make)\n",
    "\n",
    "\n",
    "###### Making an assembly\n",
    "\n",
    "Check you are working in the longread folder and you have three subfolders, minimap2, miniasm.\n",
    "\n",
    "You’ve been given some long read Oxford Nanopore data in your VM. Check that you have this data available to you. This should be found in the directory ONT_data"
   ]
  },
  {
   "cell_type": "code",
   "execution_count": null,
   "id": "f9a17d21",
   "metadata": {},
   "outputs": [],
   "source": [
    "ls ~/ONT_data"
   ]
  },
  {
   "cell_type": "markdown",
   "id": "c403bd8f",
   "metadata": {},
   "source": [
    "You are now ready to run your assembly – it will probably take 10-15 minutes. First, use minimap2 to map the reads to each other, creating overlaps. Don’t forget, you will need to either copy (cp) the reads to the directory you are working in, or, a better way is to give the path to where your reads are stored (this will use a lot less of your computer’s storage space)then use miniasm to assemble the overlapped reads\n",
    "\n"
   ]
  },
  {
   "cell_type": "code",
   "execution_count": null,
   "id": "3c5aedaf",
   "metadata": {},
   "outputs": [],
   "source": [
    "minimap2/minimap2 -x ava-ont /your/path/barcode1.fastq /your/path/barcode1.fastq > barcode1.paf"
   ]
  },
  {
   "cell_type": "code",
   "execution_count": null,
   "id": "d4a85917",
   "metadata": {},
   "outputs": [],
   "source": [
    "miniasm/miniasm –f /your/path/barcode1.fastq barcode1.paf > barcode1.gfa"
   ]
  },
  {
   "cell_type": "markdown",
   "id": "5c1b8cd5",
   "metadata": {},
   "source": [
    "To get the reads from .gfa format to .fasta (also called .fa), you’ll need to use this awk command (be careful to get it exactly right)"
   ]
  },
  {
   "cell_type": "code",
   "execution_count": null,
   "id": "54e911e8",
   "metadata": {},
   "outputs": [],
   "source": [
    "awk '$1==\"S\" {print \">\"$2\"\\n\"$3}' barcode1.gfa > barcode1.fa"
   ]
  },
  {
   "cell_type": "markdown",
   "id": "04b5dafb",
   "metadata": {},
   "source": [
    "You can now check out your new assembly file. Try some of the following:"
   ]
  },
  {
   "cell_type": "code",
   "execution_count": null,
   "id": "9becfd8b",
   "metadata": {},
   "outputs": [],
   "source": [
    "wc\n",
    "head\n",
    "ls –l\n",
    "tail"
   ]
  },
  {
   "cell_type": "markdown",
   "id": "86ec1e52",
   "metadata": {},
   "source": [
    "You can also use scripts to assess your assembly. Here, we have already installed a script called assembly-stats  "
   ]
  },
  {
   "cell_type": "code",
   "execution_count": null,
   "id": "40d94130",
   "metadata": {},
   "outputs": [],
   "source": [
    "assembly-stats barcode1.fa"
   ]
  },
  {
   "cell_type": "markdown",
   "id": "d20949bc",
   "metadata": {},
   "source": [
    "You can find this at https://github.com/sanger-pathogens/assembly-stats if you want to install it on your own machines. It’s slightly more complicated to install than what we have done so far, but it’s similar, and there are instructions on the website. Just make sure to start with git clone <name of your github archive>. To use assembly stats, type in the name of your fasta or fastq file (instead of reads.fa above)"
   ]
  },
  {
   "cell_type": "markdown",
   "id": "71565f16",
   "metadata": {},
   "source": [
    "## Next steps\n",
    "\n",
    "There are two other sample fastqs in the ONT_data folder. In order to assemble these in a short time frame, and without using too much of your computer’s memory, you will need to down-sample the data. You can choose which sample to work on, or try more than one, or try a couple of different depths of coverage if you have time. \n",
    "\n",
    "Use the tool chopper, which is already installed for you. You can filter your data on quality score (using -q) or length (using -l) - you might like to filter to remove all reads shorter than 500bp, or with quality score higher than ten.  Use chopper -h to read the help file. \n"
   ]
  },
  {
   "cell_type": "code",
   "execution_count": null,
   "id": "02ec1758",
   "metadata": {},
   "outputs": [],
   "source": [
    "cat barcode2.fastq | chopper -q 10 -l 500 > barcode2_filtered.fastq"
   ]
  },
  {
   "cell_type": "markdown",
   "id": "3b47aa5f",
   "metadata": {},
   "source": [
    "###### Things to consider when filtering or downsampling data for assembly:\n",
    "\n",
    "\n",
    "You can check how much data you have using the size of your assembly from the first part of the experiment, and \n",
    "running assembly-stats on your filtered fastq file.\n",
    " \n",
    "e.g. assembly-stats your_assembly_sample_1.fa\n",
    "n=4000000 \n",
    "\n",
    "Your assembly is 4Mb\n",
    "\n",
    "e.g. assembly-stats your_filtered.fastq\n",
    "n=100000000 \n",
    "\n",
    "Your filtered fastq is 100Mb. This gives you a \"theoretical depth of coverage\" (TDOC) of 25x, i.e. your dataset is 25x your genome size. \n",
    "\n",
    "You should typically provide an absolute minimum of 20x TDOC when running an assembly. For many applications, it’s not wise to use lower than 30x.\n",
    "There’s no upper limit on the maximum depth of coverage, but you are likely to find more than 100x won’t finish within this session (or length of this course! Or within the capability of your laptop!)\n",
    "\n",
    "\n",
    "Once you have down-sampled your data, go through the steps in the first task to create an assembly and assess its size.\n"
   ]
  },
  {
   "cell_type": "markdown",
   "id": "53bc115b",
   "metadata": {},
   "source": [
    "###### Acknowledgements\n",
    "\n",
    "With thanks to the following people who were involved in generating the data used today: \n",
    "\n",
    "Trevor Lawley & team, Yan Shao, Sanger Long Read sequencing team\n",
    "\n",
    "This is unpublished data and should not be used for anything outside this session, and practicing the skills you have learnt on this course"
   ]
  }
 ],
 "metadata": {
  "kernelspec": {
   "display_name": "Python 3 (ipykernel)",
   "language": "python",
   "name": "python3"
  },
  "language_info": {
   "codemirror_mode": {
    "name": "ipython",
    "version": 3
   },
   "file_extension": ".py",
   "mimetype": "text/x-python",
   "name": "python",
   "nbconvert_exporter": "python",
   "pygments_lexer": "ipython3",
   "version": "3.9.6"
  }
 },
 "nbformat": 4,
 "nbformat_minor": 5
}
